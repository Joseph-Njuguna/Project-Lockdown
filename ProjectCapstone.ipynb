{
    "cells": [
        {
            "metadata": {},
            "cell_type": "code",
            "source": "# @hidden_cell\n# The project token is an authorization token that is used to access project resources like data sources, connections, and used by platform APIs.\nfrom project_lib import Project\nproject = Project( project_id='a01ec7ba-b7e7-4476-a467-346725c09fa4', project_access_token='p-3e57a5c36d3130eb324d6e30393565fde29c2de5')\npc = project.project_context\n",
            "execution_count": 1,
            "outputs": []
        },
        {
            "metadata": {},
            "cell_type": "markdown",
            "source": "This is the first notebook of the Capstone Project Course! It is just one of many."
        },
        {
            "metadata": {},
            "cell_type": "code",
            "source": "import numpy as np\nimport pandas as pd\nimport sklearn\nimport datetime\n\n%matplotlib inline\nimport matplotlib\nimport matplotlib.pyplot as plt\nmatplotlib.rcParams['figure.figsize'] = (12,8)\n\n# these are useful plotting functions.\ndef histogram(df, col_name):\n    # look at loan_duration.\n    plt.hist(df[col_name], alpha=0.5, label=col_name)\n    plt.legend(loc='upper right')\n    plt.show()\n\ndef barchart(df, col_name):\n    df[col_name].value_counts().plot(kind='bar', subplots=False)\n\ndef boxplot(df, col_names, by=None):\n    #fig, axes = plt.subplots(nrows=1, ncols=2, figsize=(12, 8), sharey=True)\n    df.boxplot(column=col_names, return_type='axes', by=by)\n\ndef histogram_by_level(df, varName, targetName):\n    lvls = df[varName].value_counts()\n    for i in lvls.index:\n        plt.hist(df[df[varName] == i][targetName], alpha=0.5, label=i, bins=300)\n\n    plt.legend(loc='upper right')\n    plt.show()\n\n",
            "execution_count": 2,
            "outputs": []
        },
        {
            "metadata": {},
            "cell_type": "code",
            "source": "",
            "execution_count": null,
            "outputs": []
        },
        {
            "metadata": {},
            "cell_type": "code",
            "source": "print(\" Hello Capstone Project Course!\")\n# url = project.get_file_url(\"completedloan.csv\")\ndf = pd.read_csv(project.get_file(\"completedloan.csv\"))",
            "execution_count": 3,
            "outputs": [
                {
                    "output_type": "stream",
                    "text": " Hello Capstone Project Course!\n",
                    "name": "stdout"
                }
            ]
        },
        {
            "metadata": {},
            "cell_type": "code",
            "source": "df.columns",
            "execution_count": 4,
            "outputs": [
                {
                    "output_type": "execute_result",
                    "execution_count": 4,
                    "data": {
                        "text/plain": "Index(['loan_id', 'account_id', 'amount', 'duration', 'payments', 'status',\n       'year', 'month', 'day', 'fulldate', 'location', 'purpose'],\n      dtype='object')"
                    },
                    "metadata": {}
                }
            ]
        },
        {
            "metadata": {},
            "cell_type": "code",
            "source": "df.head()",
            "execution_count": 5,
            "outputs": [
                {
                    "output_type": "execute_result",
                    "execution_count": 5,
                    "data": {
                        "text/plain": "     loan_id account_id  amount  duration  payments status  year  month  day  \\\n0  L00005657  A00003354    4980        12       415      A  2014      7    5   \n1  L00006234  A00006061    5148        12       429      C  2018      5   28   \n2  L00006699  A00008330    7656        24       319      A  2014      3   30   \n3  L00006688  A00008268    8616        24       359      C  2017      9   26   \n4  L00006312  A00006453   10944        36       304      C  2018      5   17   \n\n     fulldate  location purpose  \n0  2014-07-05        59     car  \n1  2018-05-28         1     car  \n2  2014-03-30         1     car  \n3  2017-09-26         1     car  \n4  2018-05-17         1     car  ",
                        "text/html": "<div>\n<style scoped>\n    .dataframe tbody tr th:only-of-type {\n        vertical-align: middle;\n    }\n\n    .dataframe tbody tr th {\n        vertical-align: top;\n    }\n\n    .dataframe thead th {\n        text-align: right;\n    }\n</style>\n<table border=\"1\" class=\"dataframe\">\n  <thead>\n    <tr style=\"text-align: right;\">\n      <th></th>\n      <th>loan_id</th>\n      <th>account_id</th>\n      <th>amount</th>\n      <th>duration</th>\n      <th>payments</th>\n      <th>status</th>\n      <th>year</th>\n      <th>month</th>\n      <th>day</th>\n      <th>fulldate</th>\n      <th>location</th>\n      <th>purpose</th>\n    </tr>\n  </thead>\n  <tbody>\n    <tr>\n      <th>0</th>\n      <td>L00005657</td>\n      <td>A00003354</td>\n      <td>4980</td>\n      <td>12</td>\n      <td>415</td>\n      <td>A</td>\n      <td>2014</td>\n      <td>7</td>\n      <td>5</td>\n      <td>2014-07-05</td>\n      <td>59</td>\n      <td>car</td>\n    </tr>\n    <tr>\n      <th>1</th>\n      <td>L00006234</td>\n      <td>A00006061</td>\n      <td>5148</td>\n      <td>12</td>\n      <td>429</td>\n      <td>C</td>\n      <td>2018</td>\n      <td>5</td>\n      <td>28</td>\n      <td>2018-05-28</td>\n      <td>1</td>\n      <td>car</td>\n    </tr>\n    <tr>\n      <th>2</th>\n      <td>L00006699</td>\n      <td>A00008330</td>\n      <td>7656</td>\n      <td>24</td>\n      <td>319</td>\n      <td>A</td>\n      <td>2014</td>\n      <td>3</td>\n      <td>30</td>\n      <td>2014-03-30</td>\n      <td>1</td>\n      <td>car</td>\n    </tr>\n    <tr>\n      <th>3</th>\n      <td>L00006688</td>\n      <td>A00008268</td>\n      <td>8616</td>\n      <td>24</td>\n      <td>359</td>\n      <td>C</td>\n      <td>2017</td>\n      <td>9</td>\n      <td>26</td>\n      <td>2017-09-26</td>\n      <td>1</td>\n      <td>car</td>\n    </tr>\n    <tr>\n      <th>4</th>\n      <td>L00006312</td>\n      <td>A00006453</td>\n      <td>10944</td>\n      <td>36</td>\n      <td>304</td>\n      <td>C</td>\n      <td>2018</td>\n      <td>5</td>\n      <td>17</td>\n      <td>2018-05-17</td>\n      <td>1</td>\n      <td>car</td>\n    </tr>\n  </tbody>\n</table>\n</div>"
                    },
                    "metadata": {}
                }
            ]
        },
        {
            "metadata": {},
            "cell_type": "code",
            "source": "print(set(df.purpose))",
            "execution_count": 6,
            "outputs": [
                {
                    "output_type": "stream",
                    "text": "{'home', 'debt_consolidation', 'home_improvement', 'car'}\n",
                    "name": "stdout"
                }
            ]
        },
        {
            "metadata": {},
            "cell_type": "code",
            "source": "print(set(df.location))",
            "execution_count": 7,
            "outputs": [
                {
                    "output_type": "stream",
                    "text": "{64, 1, 70, 46, 18, 25, 59, 29}\n",
                    "name": "stdout"
                }
            ]
        },
        {
            "metadata": {},
            "cell_type": "code",
            "source": "print(set(df.status))",
            "execution_count": 8,
            "outputs": [
                {
                    "output_type": "stream",
                    "text": "{'B', 'C', 'A', 'D'}\n",
                    "name": "stdout"
                }
            ]
        },
        {
            "metadata": {},
            "cell_type": "code",
            "source": "# def histogram(df, col_name, bins):\n    # look at loan_duration.\n\n%matplotlib inline\nimport matplotlib\nimport matplotlib.pyplot as plt\nhistogram(df, 'status')",
            "execution_count": 9,
            "outputs": [
                {
                    "output_type": "display_data",
                    "data": {
                        "text/plain": "<Figure size 432x288 with 1 Axes>",
                        "image/png": "[encoded data removed]"
                    },
                    "metadata": {
                        "needs_background": "light"
                    }
                }
            ]
        },
        {
            "metadata": {},
            "cell_type": "code",
            "source": "ls = pd.read_csv(project.get_file(\"LoanStats2017H1.csv\"))\n# df = pd.read_csv(project.get_file(\"completedloan.csv\"))\nls.head()",
            "execution_count": 10,
            "outputs": [
                {
                    "output_type": "stream",
                    "text": "/opt/conda/envs/Python36/lib/python3.6/site-packages/IPython/core/interactiveshell.py:3020: DtypeWarning: Columns (0,112) have mixed types. Specify dtype option on import or set low_memory=False.\n  interactivity=interactivity, compiler=compiler, result=result)\n",
                    "name": "stderr"
                },
                {
                    "output_type": "execute_result",
                    "execution_count": 10,
                    "data": {
                        "text/plain": "    id  member_id  loan_amnt  funded_amnt  funded_amnt_inv        term  \\\n0  NaN        NaN     3600.0       3600.0           3600.0   36 months   \n1  NaN        NaN    15000.0      15000.0          15000.0   60 months   \n2  NaN        NaN     8400.0       8400.0           8400.0   36 months   \n3  NaN        NaN     4000.0       4000.0           4000.0   36 months   \n4  NaN        NaN     6000.0       6000.0           6000.0   36 months   \n\n  int_rate  installment grade sub_grade  ... sec_app_earliest_cr_line  \\\n0    7.49%       111.97     A        A4  ...                      NaN   \n1   14.99%       356.78     C        C4  ...                      NaN   \n2   11.39%       276.56     B        B3  ...                      NaN   \n3   10.49%       130.00     B        B2  ...                      NaN   \n4    7.24%       185.93     A        A3  ...                      NaN   \n\n  sec_app_inq_last_6mths sec_app_mort_acc  sec_app_open_acc  \\\n0                    NaN              NaN               NaN   \n1                    NaN              NaN               NaN   \n2                    NaN              NaN               NaN   \n3                    NaN              NaN               NaN   \n4                    NaN              NaN               NaN   \n\n  sec_app_revol_util sec_app_open_il_6m sec_app_num_rev_accts  \\\n0                NaN                NaN                   NaN   \n1                NaN                NaN                   NaN   \n2                NaN                NaN                   NaN   \n3                NaN                NaN                   NaN   \n4                NaN                NaN                   NaN   \n\n  sec_app_chargeoff_within_12_mths  sec_app_collections_12_mths_ex_med  \\\n0                              NaN                                 NaN   \n1                              NaN                                 NaN   \n2                              NaN                                 NaN   \n3                              NaN                                 NaN   \n4                              NaN                                 NaN   \n\n   sec_app_mths_since_last_major_derog  \n0                                  NaN  \n1                                  NaN  \n2                                  NaN  \n3                                  NaN  \n4                                  NaN  \n\n[5 rows x 122 columns]",
                        "text/html": "<div>\n<style scoped>\n    .dataframe tbody tr th:only-of-type {\n        vertical-align: middle;\n    }\n\n    .dataframe tbody tr th {\n        vertical-align: top;\n    }\n\n    .dataframe thead th {\n        text-align: right;\n    }\n</style>\n<table border=\"1\" class=\"dataframe\">\n  <thead>\n    <tr style=\"text-align: right;\">\n      <th></th>\n      <th>id</th>\n      <th>member_id</th>\n      <th>loan_amnt</th>\n      <th>funded_amnt</th>\n      <th>funded_amnt_inv</th>\n      <th>term</th>\n      <th>int_rate</th>\n      <th>installment</th>\n      <th>grade</th>\n      <th>sub_grade</th>\n      <th>...</th>\n      <th>sec_app_earliest_cr_line</th>\n      <th>sec_app_inq_last_6mths</th>\n      <th>sec_app_mort_acc</th>\n      <th>sec_app_open_acc</th>\n      <th>sec_app_revol_util</th>\n      <th>sec_app_open_il_6m</th>\n      <th>sec_app_num_rev_accts</th>\n      <th>sec_app_chargeoff_within_12_mths</th>\n      <th>sec_app_collections_12_mths_ex_med</th>\n      <th>sec_app_mths_since_last_major_derog</th>\n    </tr>\n  </thead>\n  <tbody>\n    <tr>\n      <th>0</th>\n      <td>NaN</td>\n      <td>NaN</td>\n      <td>3600.0</td>\n      <td>3600.0</td>\n      <td>3600.0</td>\n      <td>36 months</td>\n      <td>7.49%</td>\n      <td>111.97</td>\n      <td>A</td>\n      <td>A4</td>\n      <td>...</td>\n      <td>NaN</td>\n      <td>NaN</td>\n      <td>NaN</td>\n      <td>NaN</td>\n      <td>NaN</td>\n      <td>NaN</td>\n      <td>NaN</td>\n      <td>NaN</td>\n      <td>NaN</td>\n      <td>NaN</td>\n    </tr>\n    <tr>\n      <th>1</th>\n      <td>NaN</td>\n      <td>NaN</td>\n      <td>15000.0</td>\n      <td>15000.0</td>\n      <td>15000.0</td>\n      <td>60 months</td>\n      <td>14.99%</td>\n      <td>356.78</td>\n      <td>C</td>\n      <td>C4</td>\n      <td>...</td>\n      <td>NaN</td>\n      <td>NaN</td>\n      <td>NaN</td>\n      <td>NaN</td>\n      <td>NaN</td>\n      <td>NaN</td>\n      <td>NaN</td>\n      <td>NaN</td>\n      <td>NaN</td>\n      <td>NaN</td>\n    </tr>\n    <tr>\n      <th>2</th>\n      <td>NaN</td>\n      <td>NaN</td>\n      <td>8400.0</td>\n      <td>8400.0</td>\n      <td>8400.0</td>\n      <td>36 months</td>\n      <td>11.39%</td>\n      <td>276.56</td>\n      <td>B</td>\n      <td>B3</td>\n      <td>...</td>\n      <td>NaN</td>\n      <td>NaN</td>\n      <td>NaN</td>\n      <td>NaN</td>\n      <td>NaN</td>\n      <td>NaN</td>\n      <td>NaN</td>\n      <td>NaN</td>\n      <td>NaN</td>\n      <td>NaN</td>\n    </tr>\n    <tr>\n      <th>3</th>\n      <td>NaN</td>\n      <td>NaN</td>\n      <td>4000.0</td>\n      <td>4000.0</td>\n      <td>4000.0</td>\n      <td>36 months</td>\n      <td>10.49%</td>\n      <td>130.00</td>\n      <td>B</td>\n      <td>B2</td>\n      <td>...</td>\n      <td>NaN</td>\n      <td>NaN</td>\n      <td>NaN</td>\n      <td>NaN</td>\n      <td>NaN</td>\n      <td>NaN</td>\n      <td>NaN</td>\n      <td>NaN</td>\n      <td>NaN</td>\n      <td>NaN</td>\n    </tr>\n    <tr>\n      <th>4</th>\n      <td>NaN</td>\n      <td>NaN</td>\n      <td>6000.0</td>\n      <td>6000.0</td>\n      <td>6000.0</td>\n      <td>36 months</td>\n      <td>7.24%</td>\n      <td>185.93</td>\n      <td>A</td>\n      <td>A3</td>\n      <td>...</td>\n      <td>NaN</td>\n      <td>NaN</td>\n      <td>NaN</td>\n      <td>NaN</td>\n      <td>NaN</td>\n      <td>NaN</td>\n      <td>NaN</td>\n      <td>NaN</td>\n      <td>NaN</td>\n      <td>NaN</td>\n    </tr>\n  </tbody>\n</table>\n<p>5 rows \u00d7 122 columns</p>\n</div>"
                    },
                    "metadata": {}
                }
            ]
        },
        {
            "metadata": {},
            "cell_type": "code",
            "source": "print(set(ls.columns))\nprint(ls.dtypes)\nprint(ls.describe())",
            "execution_count": 11,
            "outputs": [
                {
                    "output_type": "stream",
                    "text": "{'mths_since_recent_bc', 'funded_amnt_inv', 'next_pymnt_d', 'open_il_24m', 'inq_last_12m', 'mo_sin_rcnt_tl', 'mo_sin_rcnt_rev_tl_op', 'bc_util', 'total_acc', 'il_util', 'mo_sin_old_rev_tl_op', 'last_credit_pull_d', 'tot_hi_cred_lim', 'acc_now_delinq', 'avg_cur_bal', 'sec_app_open_acc', 'sec_app_mths_since_last_major_derog', 'open_acc_6m', 'total_pymnt_inv', 'collections_12_mths_ex_med', 'sec_app_mort_acc', 'earliest_cr_line', 'delinq_amnt', 'chargeoff_within_12_mths', 'zip_code', 'percent_bc_gt_75', 'pub_rec', 'revol_bal_joint', 'total_pymnt', 'addr_state', 'revol_bal', 'recoveries', 'application_type', 'verification_status_joint', 'emp_length', 'num_tl_120dpd_2m', 'sec_app_revol_util', 'dti_joint', 'delinq_2yrs', 'sec_app_inq_last_6mths', 'sec_app_chargeoff_within_12_mths', 'max_bal_bc', 'desc', 'num_actv_bc_tl', 'open_rv_12m', 'loan_status', 'num_rev_accts', 'collection_recovery_fee', 'total_bc_limit', 'acc_open_past_24mths', 'sec_app_num_rev_accts', 'grade', 'sec_app_collections_12_mths_ex_med', 'total_rec_late_fee', 'verification_status', 'open_acc', 'term', 'num_actv_rev_tl', 'sec_app_open_il_6m', 'total_bal_il', 'num_tl_op_past_12m', 'inq_fi', 'mths_since_last_major_derog', 'total_rec_prncp', 'sec_app_earliest_cr_line', 'funded_amnt', 'num_rev_tl_bal_gt_0', 'dti', 'open_rv_24m', 'annual_inc', 'total_cu_tl', 'num_op_rev_tl', 'mort_acc', 'annual_inc_joint', 'total_bal_ex_mort', 'num_tl_90g_dpd_24m', 'purpose', 'num_tl_30dpd', 'out_prncp_inv', 'mths_since_recent_inq', 'num_bc_tl', 'all_util', 'tot_coll_amt', 'out_prncp', 'pct_tl_nvr_dlq', 'mths_since_recent_revol_delinq', 'total_rev_hi_lim', 'policy_code', 'id', 'member_id', 'installment', 'mo_sin_old_il_acct', 'num_sats', 'home_ownership', 'total_il_high_credit_limit', 'revol_util', 'pub_rec_bankruptcies', 'emp_title', 'pymnt_plan', 'mths_since_last_delinq', 'int_rate', 'url', 'title', 'initial_list_status', 'num_il_tl', 'sub_grade', 'mths_since_last_record', 'mths_since_rcnt_il', 'mths_since_recent_bc_dlq', 'issue_d', 'last_pymnt_d', 'loan_amnt', 'tot_cur_bal', 'num_accts_ever_120_pd', 'num_bc_sats', 'tax_liens', 'inq_last_6mths', 'bc_open_to_buy', 'open_il_6m', 'open_il_12m', 'total_rec_int', 'last_pymnt_amnt'}\nid                                      object\nmember_id                              float64\nloan_amnt                              float64\nfunded_amnt                            float64\nfunded_amnt_inv                        float64\nterm                                    object\nint_rate                                object\ninstallment                            float64\ngrade                                   object\nsub_grade                               object\nemp_title                               object\nemp_length                              object\nhome_ownership                          object\nannual_inc                             float64\nverification_status                     object\nissue_d                                 object\nloan_status                             object\npymnt_plan                              object\nurl                                    float64\ndesc                                   float64\npurpose                                 object\ntitle                                   object\nzip_code                                object\naddr_state                              object\ndti                                    float64\ndelinq_2yrs                            float64\nearliest_cr_line                        object\ninq_last_6mths                         float64\nmths_since_last_delinq                 float64\nmths_since_last_record                 float64\n                                        ...   \nnum_bc_sats                            float64\nnum_bc_tl                              float64\nnum_il_tl                              float64\nnum_op_rev_tl                          float64\nnum_rev_accts                          float64\nnum_rev_tl_bal_gt_0                    float64\nnum_sats                               float64\nnum_tl_120dpd_2m                       float64\nnum_tl_30dpd                           float64\nnum_tl_90g_dpd_24m                     float64\nnum_tl_op_past_12m                     float64\npct_tl_nvr_dlq                         float64\npercent_bc_gt_75                       float64\npub_rec_bankruptcies                   float64\ntax_liens                              float64\ntot_hi_cred_lim                        float64\ntotal_bal_ex_mort                      float64\ntotal_bc_limit                         float64\ntotal_il_high_credit_limit             float64\nrevol_bal_joint                        float64\nsec_app_earliest_cr_line                object\nsec_app_inq_last_6mths                 float64\nsec_app_mort_acc                       float64\nsec_app_open_acc                       float64\nsec_app_revol_util                     float64\nsec_app_open_il_6m                     float64\nsec_app_num_rev_accts                  float64\nsec_app_chargeoff_within_12_mths       float64\nsec_app_collections_12_mths_ex_med     float64\nsec_app_mths_since_last_major_derog    float64\nLength: 122, dtype: object\n       member_id     loan_amnt   funded_amnt  funded_amnt_inv   installment  \\\ncount        0.0  96779.000000  96779.000000     96779.000000  96779.000000   \nmean         NaN  14858.279947  14858.279947     14853.928022    450.885696   \nstd          NaN   9396.273231   9396.273231      9393.128515    283.501239   \nmin          NaN   1000.000000   1000.000000      1000.000000     30.120000   \n25%          NaN   7800.000000   7800.000000      7800.000000    244.300000   \n50%          NaN  12000.000000  12000.000000     12000.000000    372.710000   \n75%          NaN  20000.000000  20000.000000     20000.000000    602.300000   \nmax          NaN  40000.000000  40000.000000     40000.000000   1715.420000   \n\n         annual_inc  url  desc           dti   delinq_2yrs  ...  \\\ncount  9.677900e+04  0.0   0.0  96779.000000  96779.000000  ...   \nmean   8.276104e+04  NaN   NaN     22.107865      0.349642  ...   \nstd    2.149442e+05  NaN   NaN    185.235747      0.929675  ...   \nmin    0.000000e+00  NaN   NaN     -1.000000      0.000000  ...   \n25%    4.900000e+04  NaN   NaN     12.240000      0.000000  ...   \n50%    7.000000e+04  NaN   NaN     17.990000      0.000000  ...   \n75%    9.950000e+04  NaN   NaN     24.350000      0.000000  ...   \nmax    6.100000e+07  NaN   NaN   9999.000000     21.000000  ...   \n\n       revol_bal_joint  sec_app_inq_last_6mths  sec_app_mort_acc  \\\ncount      1025.000000              1025.00000       1025.000000   \nmean      28634.799024                 0.65561          1.721951   \nstd       20339.923227                 0.99286          1.841300   \nmin           0.000000                 0.00000          0.000000   \n25%       14384.000000                 0.00000          0.000000   \n50%       23848.000000                 0.00000          1.000000   \n75%       36388.000000                 1.00000          3.000000   \nmax      170412.000000                 6.00000         15.000000   \n\n       sec_app_open_acc  sec_app_revol_util  sec_app_open_il_6m  \\\ncount       1025.000000         1019.000000         1025.000000   \nmean          11.600000           59.096271            2.901463   \nstd            6.303521           24.207683            3.260956   \nmin            1.000000            0.000000            0.000000   \n25%            7.000000           41.700000            1.000000   \n50%           11.000000           61.200000            2.000000   \n75%           15.000000           78.550000            4.000000   \nmax           46.000000          106.800000           28.000000   \n\n       sec_app_num_rev_accts  sec_app_chargeoff_within_12_mths  \\\ncount            1025.000000                       1025.000000   \nmean               13.268293                          0.021463   \nstd                 8.477637                          0.180947   \nmin                 0.000000                          0.000000   \n25%                 7.000000                          0.000000   \n50%                12.000000                          0.000000   \n75%                17.000000                          0.000000   \nmax                90.000000                          4.000000   \n\n       sec_app_collections_12_mths_ex_med  sec_app_mths_since_last_major_derog  \ncount                         1025.000000                           356.000000  \nmean                             0.064390                            38.797753  \nstd                              0.268369                            23.545068  \nmin                              0.000000                             0.000000  \n25%                              0.000000                            18.000000  \n50%                              0.000000                            38.000000  \n75%                              0.000000                            57.000000  \nmax                              2.000000                           105.000000  \n\n[8 rows x 97 columns]\n",
                    "name": "stdout"
                }
            ]
        },
        {
            "metadata": {},
            "cell_type": "code",
            "source": "set(ls.loan_status)",
            "execution_count": 12,
            "outputs": [
                {
                    "output_type": "execute_result",
                    "execution_count": 12,
                    "data": {
                        "text/plain": "{'Current',\n 'Fully Paid',\n 'In Grace Period',\n 'Issued',\n 'Late (16-30 days)',\n 'Late (31-120 days)',\n nan}"
                    },
                    "metadata": {}
                }
            ]
        },
        {
            "metadata": {},
            "cell_type": "code",
            "source": "barchart(ls, 'loan_status')\n",
            "execution_count": 13,
            "outputs": [
                {
                    "output_type": "display_data",
                    "data": {
                        "text/plain": "<Figure size 432x288 with 1 Axes>",
                        "image/png": "[encoded data removed]"
                    },
                    "metadata": {
                        "needs_background": "light"
                    }
                }
            ]
        },
        {
            "metadata": {},
            "cell_type": "code",
            "source": "lss = ls.iloc[:5,109:]\nlss",
            "execution_count": 14,
            "outputs": [
                {
                    "output_type": "execute_result",
                    "execution_count": 14,
                    "data": {
                        "text/plain": "   total_bc_limit  total_il_high_credit_limit  revol_bal_joint  \\\n0          9000.0                     55699.0              NaN   \n1         60300.0                     30224.0              NaN   \n2         36100.0                     36876.0              NaN   \n3          2500.0                    139652.0              NaN   \n4         23200.0                     49665.0              NaN   \n\n  sec_app_earliest_cr_line  sec_app_inq_last_6mths  sec_app_mort_acc  \\\n0                      NaN                     NaN               NaN   \n1                      NaN                     NaN               NaN   \n2                      NaN                     NaN               NaN   \n3                      NaN                     NaN               NaN   \n4                      NaN                     NaN               NaN   \n\n   sec_app_open_acc  sec_app_revol_util  sec_app_open_il_6m  \\\n0               NaN                 NaN                 NaN   \n1               NaN                 NaN                 NaN   \n2               NaN                 NaN                 NaN   \n3               NaN                 NaN                 NaN   \n4               NaN                 NaN                 NaN   \n\n   sec_app_num_rev_accts  sec_app_chargeoff_within_12_mths  \\\n0                    NaN                               NaN   \n1                    NaN                               NaN   \n2                    NaN                               NaN   \n3                    NaN                               NaN   \n4                    NaN                               NaN   \n\n   sec_app_collections_12_mths_ex_med  sec_app_mths_since_last_major_derog  \n0                                 NaN                                  NaN  \n1                                 NaN                                  NaN  \n2                                 NaN                                  NaN  \n3                                 NaN                                  NaN  \n4                                 NaN                                  NaN  ",
                        "text/html": "<div>\n<style scoped>\n    .dataframe tbody tr th:only-of-type {\n        vertical-align: middle;\n    }\n\n    .dataframe tbody tr th {\n        vertical-align: top;\n    }\n\n    .dataframe thead th {\n        text-align: right;\n    }\n</style>\n<table border=\"1\" class=\"dataframe\">\n  <thead>\n    <tr style=\"text-align: right;\">\n      <th></th>\n      <th>total_bc_limit</th>\n      <th>total_il_high_credit_limit</th>\n      <th>revol_bal_joint</th>\n      <th>sec_app_earliest_cr_line</th>\n      <th>sec_app_inq_last_6mths</th>\n      <th>sec_app_mort_acc</th>\n      <th>sec_app_open_acc</th>\n      <th>sec_app_revol_util</th>\n      <th>sec_app_open_il_6m</th>\n      <th>sec_app_num_rev_accts</th>\n      <th>sec_app_chargeoff_within_12_mths</th>\n      <th>sec_app_collections_12_mths_ex_med</th>\n      <th>sec_app_mths_since_last_major_derog</th>\n    </tr>\n  </thead>\n  <tbody>\n    <tr>\n      <th>0</th>\n      <td>9000.0</td>\n      <td>55699.0</td>\n      <td>NaN</td>\n      <td>NaN</td>\n      <td>NaN</td>\n      <td>NaN</td>\n      <td>NaN</td>\n      <td>NaN</td>\n      <td>NaN</td>\n      <td>NaN</td>\n      <td>NaN</td>\n      <td>NaN</td>\n      <td>NaN</td>\n    </tr>\n    <tr>\n      <th>1</th>\n      <td>60300.0</td>\n      <td>30224.0</td>\n      <td>NaN</td>\n      <td>NaN</td>\n      <td>NaN</td>\n      <td>NaN</td>\n      <td>NaN</td>\n      <td>NaN</td>\n      <td>NaN</td>\n      <td>NaN</td>\n      <td>NaN</td>\n      <td>NaN</td>\n      <td>NaN</td>\n    </tr>\n    <tr>\n      <th>2</th>\n      <td>36100.0</td>\n      <td>36876.0</td>\n      <td>NaN</td>\n      <td>NaN</td>\n      <td>NaN</td>\n      <td>NaN</td>\n      <td>NaN</td>\n      <td>NaN</td>\n      <td>NaN</td>\n      <td>NaN</td>\n      <td>NaN</td>\n      <td>NaN</td>\n      <td>NaN</td>\n    </tr>\n    <tr>\n      <th>3</th>\n      <td>2500.0</td>\n      <td>139652.0</td>\n      <td>NaN</td>\n      <td>NaN</td>\n      <td>NaN</td>\n      <td>NaN</td>\n      <td>NaN</td>\n      <td>NaN</td>\n      <td>NaN</td>\n      <td>NaN</td>\n      <td>NaN</td>\n      <td>NaN</td>\n      <td>NaN</td>\n    </tr>\n    <tr>\n      <th>4</th>\n      <td>23200.0</td>\n      <td>49665.0</td>\n      <td>NaN</td>\n      <td>NaN</td>\n      <td>NaN</td>\n      <td>NaN</td>\n      <td>NaN</td>\n      <td>NaN</td>\n      <td>NaN</td>\n      <td>NaN</td>\n      <td>NaN</td>\n      <td>NaN</td>\n      <td>NaN</td>\n    </tr>\n  </tbody>\n</table>\n</div>"
                    },
                    "metadata": {}
                }
            ]
        },
        {
            "metadata": {},
            "cell_type": "code",
            "source": "lsc = ls[['loan_amnt','term','int_rate','installment','grade','emp_length','home_ownership','annual_inc','issue_d','loan_status','application_type']]\n",
            "execution_count": 15,
            "outputs": []
        },
        {
            "metadata": {},
            "cell_type": "code",
            "source": "\nlsc.dropna(inplace= True)",
            "execution_count": 16,
            "outputs": [
                {
                    "output_type": "stream",
                    "text": "/opt/conda/envs/Python36/lib/python3.6/site-packages/ipykernel/__main__.py:2: SettingWithCopyWarning: \nA value is trying to be set on a copy of a slice from a DataFrame\n\nSee the caveats in the documentation: http://pandas.pydata.org/pandas-docs/stable/indexing.html#indexing-view-versus-copy\n  from ipykernel import kernelapp as app\n",
                    "name": "stderr"
                }
            ]
        },
        {
            "metadata": {},
            "cell_type": "code",
            "source": "##  Drop Months from term column\nlsc[['term','dd']] = lsc.term.str.split(expand=True)\nlsc.drop(columns=['dd'], inplace= True)\n# lsc[['term','dd']] = lsc.term.apply(lambda x: pd.Series(str(x).split(\" \").str[0])) \n# lsc[['term']]= lsc.term.str.split(' ').str[0]\n# lsc.head()",
            "execution_count": 17,
            "outputs": [
                {
                    "output_type": "stream",
                    "text": "/opt/conda/envs/Python36/lib/python3.6/site-packages/pandas/core/frame.py:3391: SettingWithCopyWarning: \nA value is trying to be set on a copy of a slice from a DataFrame.\nTry using .loc[row_indexer,col_indexer] = value instead\n\nSee the caveats in the documentation: http://pandas.pydata.org/pandas-docs/stable/indexing.html#indexing-view-versus-copy\n  self[k1] = value[k2]\n/opt/conda/envs/Python36/lib/python3.6/site-packages/pandas/core/frame.py:3940: SettingWithCopyWarning: \nA value is trying to be set on a copy of a slice from a DataFrame\n\nSee the caveats in the documentation: http://pandas.pydata.org/pandas-docs/stable/indexing.html#indexing-view-versus-copy\n  errors=errors)\n",
                    "name": "stderr"
                }
            ]
        },
        {
            "metadata": {},
            "cell_type": "code",
            "source": "lscs = lsc\n# lscs.head()",
            "execution_count": 18,
            "outputs": []
        },
        {
            "metadata": {},
            "cell_type": "code",
            "source": "## Convert int_rate to integer.\nlscs['int_rate'] = lscs['int_rate'].str.rstrip('%').astype('float')\nlscs.head()",
            "execution_count": 19,
            "outputs": [
                {
                    "output_type": "stream",
                    "text": "/opt/conda/envs/Python36/lib/python3.6/site-packages/ipykernel/__main__.py:2: SettingWithCopyWarning: \nA value is trying to be set on a copy of a slice from a DataFrame.\nTry using .loc[row_indexer,col_indexer] = value instead\n\nSee the caveats in the documentation: http://pandas.pydata.org/pandas-docs/stable/indexing.html#indexing-view-versus-copy\n  from ipykernel import kernelapp as app\n",
                    "name": "stderr"
                },
                {
                    "output_type": "execute_result",
                    "execution_count": 19,
                    "data": {
                        "text/plain": "   loan_amnt term  int_rate  installment grade emp_length home_ownership  \\\n0     3600.0   36      7.49       111.97     A  10+ years       MORTGAGE   \n1    15000.0   60     14.99       356.78     C  10+ years       MORTGAGE   \n2     8400.0   36     11.39       276.56     B    8 years       MORTGAGE   \n3     4000.0   36     10.49       130.00     B    2 years           RENT   \n4     6000.0   36      7.24       185.93     A    3 years           RENT   \n\n   annual_inc issue_d loan_status application_type  \n0    120000.0  Mar-17      Issued       INDIVIDUAL  \n1    125000.0  Mar-17      Issued       INDIVIDUAL  \n2     50000.0  Mar-17      Issued       INDIVIDUAL  \n3     50000.0  Mar-17      Issued       INDIVIDUAL  \n4    125000.0  Mar-17     Current       INDIVIDUAL  ",
                        "text/html": "<div>\n<style scoped>\n    .dataframe tbody tr th:only-of-type {\n        vertical-align: middle;\n    }\n\n    .dataframe tbody tr th {\n        vertical-align: top;\n    }\n\n    .dataframe thead th {\n        text-align: right;\n    }\n</style>\n<table border=\"1\" class=\"dataframe\">\n  <thead>\n    <tr style=\"text-align: right;\">\n      <th></th>\n      <th>loan_amnt</th>\n      <th>term</th>\n      <th>int_rate</th>\n      <th>installment</th>\n      <th>grade</th>\n      <th>emp_length</th>\n      <th>home_ownership</th>\n      <th>annual_inc</th>\n      <th>issue_d</th>\n      <th>loan_status</th>\n      <th>application_type</th>\n    </tr>\n  </thead>\n  <tbody>\n    <tr>\n      <th>0</th>\n      <td>3600.0</td>\n      <td>36</td>\n      <td>7.49</td>\n      <td>111.97</td>\n      <td>A</td>\n      <td>10+ years</td>\n      <td>MORTGAGE</td>\n      <td>120000.0</td>\n      <td>Mar-17</td>\n      <td>Issued</td>\n      <td>INDIVIDUAL</td>\n    </tr>\n    <tr>\n      <th>1</th>\n      <td>15000.0</td>\n      <td>60</td>\n      <td>14.99</td>\n      <td>356.78</td>\n      <td>C</td>\n      <td>10+ years</td>\n      <td>MORTGAGE</td>\n      <td>125000.0</td>\n      <td>Mar-17</td>\n      <td>Issued</td>\n      <td>INDIVIDUAL</td>\n    </tr>\n    <tr>\n      <th>2</th>\n      <td>8400.0</td>\n      <td>36</td>\n      <td>11.39</td>\n      <td>276.56</td>\n      <td>B</td>\n      <td>8 years</td>\n      <td>MORTGAGE</td>\n      <td>50000.0</td>\n      <td>Mar-17</td>\n      <td>Issued</td>\n      <td>INDIVIDUAL</td>\n    </tr>\n    <tr>\n      <th>3</th>\n      <td>4000.0</td>\n      <td>36</td>\n      <td>10.49</td>\n      <td>130.00</td>\n      <td>B</td>\n      <td>2 years</td>\n      <td>RENT</td>\n      <td>50000.0</td>\n      <td>Mar-17</td>\n      <td>Issued</td>\n      <td>INDIVIDUAL</td>\n    </tr>\n    <tr>\n      <th>4</th>\n      <td>6000.0</td>\n      <td>36</td>\n      <td>7.24</td>\n      <td>185.93</td>\n      <td>A</td>\n      <td>3 years</td>\n      <td>RENT</td>\n      <td>125000.0</td>\n      <td>Mar-17</td>\n      <td>Current</td>\n      <td>INDIVIDUAL</td>\n    </tr>\n  </tbody>\n</table>\n</div>"
                    },
                    "metadata": {}
                }
            ]
        },
        {
            "metadata": {
                "scrolled": true
            },
            "cell_type": "code",
            "source": "lscs.head()",
            "execution_count": 20,
            "outputs": [
                {
                    "output_type": "execute_result",
                    "execution_count": 20,
                    "data": {
                        "text/plain": "   loan_amnt term  int_rate  installment grade emp_length home_ownership  \\\n0     3600.0   36      7.49       111.97     A  10+ years       MORTGAGE   \n1    15000.0   60     14.99       356.78     C  10+ years       MORTGAGE   \n2     8400.0   36     11.39       276.56     B    8 years       MORTGAGE   \n3     4000.0   36     10.49       130.00     B    2 years           RENT   \n4     6000.0   36      7.24       185.93     A    3 years           RENT   \n\n   annual_inc issue_d loan_status application_type  \n0    120000.0  Mar-17      Issued       INDIVIDUAL  \n1    125000.0  Mar-17      Issued       INDIVIDUAL  \n2     50000.0  Mar-17      Issued       INDIVIDUAL  \n3     50000.0  Mar-17      Issued       INDIVIDUAL  \n4    125000.0  Mar-17     Current       INDIVIDUAL  ",
                        "text/html": "<div>\n<style scoped>\n    .dataframe tbody tr th:only-of-type {\n        vertical-align: middle;\n    }\n\n    .dataframe tbody tr th {\n        vertical-align: top;\n    }\n\n    .dataframe thead th {\n        text-align: right;\n    }\n</style>\n<table border=\"1\" class=\"dataframe\">\n  <thead>\n    <tr style=\"text-align: right;\">\n      <th></th>\n      <th>loan_amnt</th>\n      <th>term</th>\n      <th>int_rate</th>\n      <th>installment</th>\n      <th>grade</th>\n      <th>emp_length</th>\n      <th>home_ownership</th>\n      <th>annual_inc</th>\n      <th>issue_d</th>\n      <th>loan_status</th>\n      <th>application_type</th>\n    </tr>\n  </thead>\n  <tbody>\n    <tr>\n      <th>0</th>\n      <td>3600.0</td>\n      <td>36</td>\n      <td>7.49</td>\n      <td>111.97</td>\n      <td>A</td>\n      <td>10+ years</td>\n      <td>MORTGAGE</td>\n      <td>120000.0</td>\n      <td>Mar-17</td>\n      <td>Issued</td>\n      <td>INDIVIDUAL</td>\n    </tr>\n    <tr>\n      <th>1</th>\n      <td>15000.0</td>\n      <td>60</td>\n      <td>14.99</td>\n      <td>356.78</td>\n      <td>C</td>\n      <td>10+ years</td>\n      <td>MORTGAGE</td>\n      <td>125000.0</td>\n      <td>Mar-17</td>\n      <td>Issued</td>\n      <td>INDIVIDUAL</td>\n    </tr>\n    <tr>\n      <th>2</th>\n      <td>8400.0</td>\n      <td>36</td>\n      <td>11.39</td>\n      <td>276.56</td>\n      <td>B</td>\n      <td>8 years</td>\n      <td>MORTGAGE</td>\n      <td>50000.0</td>\n      <td>Mar-17</td>\n      <td>Issued</td>\n      <td>INDIVIDUAL</td>\n    </tr>\n    <tr>\n      <th>3</th>\n      <td>4000.0</td>\n      <td>36</td>\n      <td>10.49</td>\n      <td>130.00</td>\n      <td>B</td>\n      <td>2 years</td>\n      <td>RENT</td>\n      <td>50000.0</td>\n      <td>Mar-17</td>\n      <td>Issued</td>\n      <td>INDIVIDUAL</td>\n    </tr>\n    <tr>\n      <th>4</th>\n      <td>6000.0</td>\n      <td>36</td>\n      <td>7.24</td>\n      <td>185.93</td>\n      <td>A</td>\n      <td>3 years</td>\n      <td>RENT</td>\n      <td>125000.0</td>\n      <td>Mar-17</td>\n      <td>Current</td>\n      <td>INDIVIDUAL</td>\n    </tr>\n  </tbody>\n</table>\n</div>"
                    },
                    "metadata": {}
                }
            ]
        },
        {
            "metadata": {
                "scrolled": true
            },
            "cell_type": "code",
            "source": "## convert emp_length and grade to numerical values\nmapping_dict = {\"emp_length\": {\"10+ years\": 10,\"9 years\": 9,\"8 years\": 8,\"7 years\": 7,\"6 years\": 6,\"5 years\": 5,\"4 years\": 4,\"3 years\": 3,\"2 years\": 2,\"1 year\": 1,\"< 1 year\": 0,\"n/a\": 0},\n                \"grade\":{\"A\": 1,\"B\": 2,\"C\": 3,\"D\": 4,\"E\": 5,\"F\": 6,\"G\": 7}\n               }\nlscs = lscs.replace(mapping_dict)\nlscs[['emp_length','grade']].head()",
            "execution_count": 21,
            "outputs": [
                {
                    "output_type": "execute_result",
                    "execution_count": 21,
                    "data": {
                        "text/plain": "  emp_length  grade\n0         10      1\n1         10      3\n2          8      2\n3          2      2\n4          3      1",
                        "text/html": "<div>\n<style scoped>\n    .dataframe tbody tr th:only-of-type {\n        vertical-align: middle;\n    }\n\n    .dataframe tbody tr th {\n        vertical-align: top;\n    }\n\n    .dataframe thead th {\n        text-align: right;\n    }\n</style>\n<table border=\"1\" class=\"dataframe\">\n  <thead>\n    <tr style=\"text-align: right;\">\n      <th></th>\n      <th>emp_length</th>\n      <th>grade</th>\n    </tr>\n  </thead>\n  <tbody>\n    <tr>\n      <th>0</th>\n      <td>10</td>\n      <td>1</td>\n    </tr>\n    <tr>\n      <th>1</th>\n      <td>10</td>\n      <td>3</td>\n    </tr>\n    <tr>\n      <th>2</th>\n      <td>8</td>\n      <td>2</td>\n    </tr>\n    <tr>\n      <th>3</th>\n      <td>2</td>\n      <td>2</td>\n    </tr>\n    <tr>\n      <th>4</th>\n      <td>3</td>\n      <td>1</td>\n    </tr>\n  </tbody>\n</table>\n</div>"
                    },
                    "metadata": {}
                }
            ]
        },
        {
            "metadata": {},
            "cell_type": "code",
            "source": "lscs.head()",
            "execution_count": 22,
            "outputs": [
                {
                    "output_type": "execute_result",
                    "execution_count": 22,
                    "data": {
                        "text/plain": "   loan_amnt term  int_rate  installment  grade emp_length home_ownership  \\\n0     3600.0   36      7.49       111.97      1         10       MORTGAGE   \n1    15000.0   60     14.99       356.78      3         10       MORTGAGE   \n2     8400.0   36     11.39       276.56      2          8       MORTGAGE   \n3     4000.0   36     10.49       130.00      2          2           RENT   \n4     6000.0   36      7.24       185.93      1          3           RENT   \n\n   annual_inc issue_d loan_status application_type  \n0    120000.0  Mar-17      Issued       INDIVIDUAL  \n1    125000.0  Mar-17      Issued       INDIVIDUAL  \n2     50000.0  Mar-17      Issued       INDIVIDUAL  \n3     50000.0  Mar-17      Issued       INDIVIDUAL  \n4    125000.0  Mar-17     Current       INDIVIDUAL  ",
                        "text/html": "<div>\n<style scoped>\n    .dataframe tbody tr th:only-of-type {\n        vertical-align: middle;\n    }\n\n    .dataframe tbody tr th {\n        vertical-align: top;\n    }\n\n    .dataframe thead th {\n        text-align: right;\n    }\n</style>\n<table border=\"1\" class=\"dataframe\">\n  <thead>\n    <tr style=\"text-align: right;\">\n      <th></th>\n      <th>loan_amnt</th>\n      <th>term</th>\n      <th>int_rate</th>\n      <th>installment</th>\n      <th>grade</th>\n      <th>emp_length</th>\n      <th>home_ownership</th>\n      <th>annual_inc</th>\n      <th>issue_d</th>\n      <th>loan_status</th>\n      <th>application_type</th>\n    </tr>\n  </thead>\n  <tbody>\n    <tr>\n      <th>0</th>\n      <td>3600.0</td>\n      <td>36</td>\n      <td>7.49</td>\n      <td>111.97</td>\n      <td>1</td>\n      <td>10</td>\n      <td>MORTGAGE</td>\n      <td>120000.0</td>\n      <td>Mar-17</td>\n      <td>Issued</td>\n      <td>INDIVIDUAL</td>\n    </tr>\n    <tr>\n      <th>1</th>\n      <td>15000.0</td>\n      <td>60</td>\n      <td>14.99</td>\n      <td>356.78</td>\n      <td>3</td>\n      <td>10</td>\n      <td>MORTGAGE</td>\n      <td>125000.0</td>\n      <td>Mar-17</td>\n      <td>Issued</td>\n      <td>INDIVIDUAL</td>\n    </tr>\n    <tr>\n      <th>2</th>\n      <td>8400.0</td>\n      <td>36</td>\n      <td>11.39</td>\n      <td>276.56</td>\n      <td>2</td>\n      <td>8</td>\n      <td>MORTGAGE</td>\n      <td>50000.0</td>\n      <td>Mar-17</td>\n      <td>Issued</td>\n      <td>INDIVIDUAL</td>\n    </tr>\n    <tr>\n      <th>3</th>\n      <td>4000.0</td>\n      <td>36</td>\n      <td>10.49</td>\n      <td>130.00</td>\n      <td>2</td>\n      <td>2</td>\n      <td>RENT</td>\n      <td>50000.0</td>\n      <td>Mar-17</td>\n      <td>Issued</td>\n      <td>INDIVIDUAL</td>\n    </tr>\n    <tr>\n      <th>4</th>\n      <td>6000.0</td>\n      <td>36</td>\n      <td>7.24</td>\n      <td>185.93</td>\n      <td>1</td>\n      <td>3</td>\n      <td>RENT</td>\n      <td>125000.0</td>\n      <td>Mar-17</td>\n      <td>Current</td>\n      <td>INDIVIDUAL</td>\n    </tr>\n  </tbody>\n</table>\n</div>"
                    },
                    "metadata": {}
                }
            ]
        },
        {
            "metadata": {},
            "cell_type": "code",
            "source": "# lscs.describe()\nlscs.info()",
            "execution_count": 23,
            "outputs": [
                {
                    "output_type": "stream",
                    "text": "<class 'pandas.core.frame.DataFrame'>\nInt64Index: 89987 entries, 0 to 96778\nData columns (total 11 columns):\nloan_amnt           89987 non-null float64\nterm                89987 non-null object\nint_rate            89987 non-null float64\ninstallment         89987 non-null float64\ngrade               89987 non-null int64\nemp_length          89987 non-null object\nhome_ownership      89987 non-null object\nannual_inc          89987 non-null float64\nissue_d             89987 non-null object\nloan_status         89987 non-null object\napplication_type    89987 non-null object\ndtypes: float64(4), int64(1), object(6)\nmemory usage: 8.2+ MB\n",
                    "name": "stdout"
                }
            ]
        },
        {
            "metadata": {},
            "cell_type": "code",
            "source": "# lscf = lsc[['loan_amnt','term','installment','grade', 'annual_inc']]\nmycolumns = lscs.loc[:,lscs.apply(pd.Series.nunique) != 1]\nfor col in mycolumns:\n    if (len(lscs[col].unique()) < 7):\n        print(lscs[col].value_counts())\n        print()",
            "execution_count": 24,
            "outputs": [
                {
                    "output_type": "stream",
                    "text": "36    66728\n60    23259\nName: term, dtype: int64\n\nMORTGAGE    45064\nRENT        34884\nOWN          9677\nANY           361\nNONE            1\nName: home_ownership, dtype: int64\n\nMar-17    34534\nJan-17    29723\nFeb-17    25730\nName: issue_d, dtype: int64\n\nCurrent               73355\nIssued                13987\nFully Paid             2128\nIn Grace Period         305\nLate (31-120 days)      117\nLate (16-30 days)        95\nName: loan_status, dtype: int64\n\nINDIVIDUAL    86041\nJOINT          3924\nDIRECT_PAY       22\nName: application_type, dtype: int64\n\n",
                    "name": "stdout"
                }
            ]
        },
        {
            "metadata": {},
            "cell_type": "code",
            "source": "mapping_dict = {\"home_ownership\": {\"MORTGAGE\": 4,\"RENT\": 3,\"OWN\": 2,\"ANY\": 1,\"NONE\": 0},\n                \"loan_status\": {\"Current\": 1,\"Issued\": 2,\"Fully Paid\": 3,\"In Grace Period\": 4,\"Late (16-30 days)\": 5,\"Late (31-120 days)\": 6},\n                \"application_type\": {\"INDIVIDUAL\": 1,\"JOINT\": 2,\"DIRECT_PAY\": 3}\n               }\nlscs = lscs.replace(mapping_dict)\nlscs[['home_ownership','loan_status','application_type']].head()",
            "execution_count": 25,
            "outputs": [
                {
                    "output_type": "execute_result",
                    "execution_count": 25,
                    "data": {
                        "text/plain": "   home_ownership  loan_status  application_type\n0               4            2                 1\n1               4            2                 1\n2               4            2                 1\n3               3            2                 1\n4               3            1                 1",
                        "text/html": "<div>\n<style scoped>\n    .dataframe tbody tr th:only-of-type {\n        vertical-align: middle;\n    }\n\n    .dataframe tbody tr th {\n        vertical-align: top;\n    }\n\n    .dataframe thead th {\n        text-align: right;\n    }\n</style>\n<table border=\"1\" class=\"dataframe\">\n  <thead>\n    <tr style=\"text-align: right;\">\n      <th></th>\n      <th>home_ownership</th>\n      <th>loan_status</th>\n      <th>application_type</th>\n    </tr>\n  </thead>\n  <tbody>\n    <tr>\n      <th>0</th>\n      <td>4</td>\n      <td>2</td>\n      <td>1</td>\n    </tr>\n    <tr>\n      <th>1</th>\n      <td>4</td>\n      <td>2</td>\n      <td>1</td>\n    </tr>\n    <tr>\n      <th>2</th>\n      <td>4</td>\n      <td>2</td>\n      <td>1</td>\n    </tr>\n    <tr>\n      <th>3</th>\n      <td>3</td>\n      <td>2</td>\n      <td>1</td>\n    </tr>\n    <tr>\n      <th>4</th>\n      <td>3</td>\n      <td>1</td>\n      <td>1</td>\n    </tr>\n  </tbody>\n</table>\n</div>"
                    },
                    "metadata": {}
                }
            ]
        },
        {
            "metadata": {},
            "cell_type": "code",
            "source": "# mydf = lscs.loc[:,'loan_amnt','term', 'int_rate', 'installment','grade', 'emp_length', 'home_ownership', 'annual_inc', 'loan_status', 'application_type']\nmydf = lscs[['loan_amnt','term', 'int_rate', 'installment','grade', 'emp_length', 'home_ownership', 'annual_inc', 'loan_status', 'application_type']]\n# mydf = lscs.iloc[0,1,2]\nmydf.head()",
            "execution_count": 26,
            "outputs": [
                {
                    "output_type": "execute_result",
                    "execution_count": 26,
                    "data": {
                        "text/plain": "   loan_amnt term  int_rate  installment  grade emp_length  home_ownership  \\\n0     3600.0   36      7.49       111.97      1         10               4   \n1    15000.0   60     14.99       356.78      3         10               4   \n2     8400.0   36     11.39       276.56      2          8               4   \n3     4000.0   36     10.49       130.00      2          2               3   \n4     6000.0   36      7.24       185.93      1          3               3   \n\n   annual_inc  loan_status  application_type  \n0    120000.0            2                 1  \n1    125000.0            2                 1  \n2     50000.0            2                 1  \n3     50000.0            2                 1  \n4    125000.0            1                 1  ",
                        "text/html": "<div>\n<style scoped>\n    .dataframe tbody tr th:only-of-type {\n        vertical-align: middle;\n    }\n\n    .dataframe tbody tr th {\n        vertical-align: top;\n    }\n\n    .dataframe thead th {\n        text-align: right;\n    }\n</style>\n<table border=\"1\" class=\"dataframe\">\n  <thead>\n    <tr style=\"text-align: right;\">\n      <th></th>\n      <th>loan_amnt</th>\n      <th>term</th>\n      <th>int_rate</th>\n      <th>installment</th>\n      <th>grade</th>\n      <th>emp_length</th>\n      <th>home_ownership</th>\n      <th>annual_inc</th>\n      <th>loan_status</th>\n      <th>application_type</th>\n    </tr>\n  </thead>\n  <tbody>\n    <tr>\n      <th>0</th>\n      <td>3600.0</td>\n      <td>36</td>\n      <td>7.49</td>\n      <td>111.97</td>\n      <td>1</td>\n      <td>10</td>\n      <td>4</td>\n      <td>120000.0</td>\n      <td>2</td>\n      <td>1</td>\n    </tr>\n    <tr>\n      <th>1</th>\n      <td>15000.0</td>\n      <td>60</td>\n      <td>14.99</td>\n      <td>356.78</td>\n      <td>3</td>\n      <td>10</td>\n      <td>4</td>\n      <td>125000.0</td>\n      <td>2</td>\n      <td>1</td>\n    </tr>\n    <tr>\n      <th>2</th>\n      <td>8400.0</td>\n      <td>36</td>\n      <td>11.39</td>\n      <td>276.56</td>\n      <td>2</td>\n      <td>8</td>\n      <td>4</td>\n      <td>50000.0</td>\n      <td>2</td>\n      <td>1</td>\n    </tr>\n    <tr>\n      <th>3</th>\n      <td>4000.0</td>\n      <td>36</td>\n      <td>10.49</td>\n      <td>130.00</td>\n      <td>2</td>\n      <td>2</td>\n      <td>3</td>\n      <td>50000.0</td>\n      <td>2</td>\n      <td>1</td>\n    </tr>\n    <tr>\n      <th>4</th>\n      <td>6000.0</td>\n      <td>36</td>\n      <td>7.24</td>\n      <td>185.93</td>\n      <td>1</td>\n      <td>3</td>\n      <td>3</td>\n      <td>125000.0</td>\n      <td>1</td>\n      <td>1</td>\n    </tr>\n  </tbody>\n</table>\n</div>"
                    },
                    "metadata": {}
                }
            ]
        },
        {
            "metadata": {},
            "cell_type": "code",
            "source": "##save to Watson Storage Bucket\nproject.save_data(file_name = \"myloandata.csv\",data = df.to_csv(index=False))\n# project.save_data(data=mydf.to_csv(index=False),file_name='myloandata.csv',overwrite=True)\n",
            "execution_count": 28,
            "outputs": [
                {
                    "output_type": "error",
                    "ename": "ClientError",
                    "evalue": "An error occurred (AccessDenied) when calling the PutObject operation: Access Denied",
                    "traceback": [
                        "\u001b[0;31m---------------------------------------------------------------------------\u001b[0m",
                        "\u001b[0;31mClientError\u001b[0m                               Traceback (most recent call last)",
                        "\u001b[0;32m<ipython-input-28-4d1d306dabc5>\u001b[0m in \u001b[0;36m<module>\u001b[0;34m\u001b[0m\n\u001b[1;32m      1\u001b[0m \u001b[0;31m##save to Watson Storage Bucket\u001b[0m\u001b[0;34m\u001b[0m\u001b[0;34m\u001b[0m\u001b[0;34m\u001b[0m\u001b[0m\n\u001b[0;32m----> 2\u001b[0;31m \u001b[0mproject\u001b[0m\u001b[0;34m.\u001b[0m\u001b[0msave_data\u001b[0m\u001b[0;34m(\u001b[0m\u001b[0mfile_name\u001b[0m \u001b[0;34m=\u001b[0m \u001b[0;34m\"myloandata.csv\"\u001b[0m\u001b[0;34m,\u001b[0m\u001b[0mdata\u001b[0m \u001b[0;34m=\u001b[0m \u001b[0mdf\u001b[0m\u001b[0;34m.\u001b[0m\u001b[0mto_csv\u001b[0m\u001b[0;34m(\u001b[0m\u001b[0mindex\u001b[0m\u001b[0;34m=\u001b[0m\u001b[0;32mFalse\u001b[0m\u001b[0;34m)\u001b[0m\u001b[0;34m)\u001b[0m\u001b[0;34m\u001b[0m\u001b[0;34m\u001b[0m\u001b[0m\n\u001b[0m\u001b[1;32m      3\u001b[0m \u001b[0;31m# project.save_data(data=mydf.to_csv(index=False),file_name='myloandata.csv',overwrite=True)\u001b[0m\u001b[0;34m\u001b[0m\u001b[0;34m\u001b[0m\u001b[0;34m\u001b[0m\u001b[0m\n",
                        "\u001b[0;32m/opt/conda/envs/Python36/lib/python3.6/site-packages/project_lib/project.py\u001b[0m in \u001b[0;36msave_data\u001b[0;34m(self, file_name, data, set_project_asset, overwrite, direct_storage)\u001b[0m\n\u001b[1;32m    289\u001b[0m             \u001b[0;31m#@@@ dangerous behavior when overwrite=True\u001b[0m\u001b[0;34m\u001b[0m\u001b[0;34m\u001b[0m\u001b[0;34m\u001b[0m\u001b[0m\n\u001b[1;32m    290\u001b[0m \u001b[0;34m\u001b[0m\u001b[0m\n\u001b[0;32m--> 291\u001b[0;31m         \u001b[0mresponse\u001b[0m \u001b[0;34m=\u001b[0m \u001b[0mself\u001b[0m\u001b[0;34m.\u001b[0m\u001b[0m_core\u001b[0m\u001b[0;34m.\u001b[0m\u001b[0msave_data_to_storage\u001b[0m\u001b[0;34m(\u001b[0m\u001b[0mfile_name\u001b[0m\u001b[0;34m,\u001b[0m \u001b[0mdata\u001b[0m\u001b[0;34m,\u001b[0m \u001b[0moverwrite\u001b[0m\u001b[0;34m,\u001b[0m \u001b[0mcreate_asset\u001b[0m\u001b[0;34m)\u001b[0m\u001b[0;34m\u001b[0m\u001b[0;34m\u001b[0m\u001b[0m\n\u001b[0m\u001b[1;32m    292\u001b[0m         \u001b[0;32mif\u001b[0m \u001b[0;34m(\u001b[0m\u001b[0masset_id\u001b[0m \u001b[0;32mand\u001b[0m \u001b[0misinstance\u001b[0m\u001b[0;34m(\u001b[0m\u001b[0mresponse\u001b[0m\u001b[0;34m,\u001b[0m \u001b[0mdict\u001b[0m\u001b[0;34m)\u001b[0m\u001b[0;34m)\u001b[0m\u001b[0;34m:\u001b[0m\u001b[0;34m\u001b[0m\u001b[0;34m\u001b[0m\u001b[0m\n\u001b[1;32m    293\u001b[0m             \u001b[0;31m# overwrite case\u001b[0m\u001b[0;34m\u001b[0m\u001b[0;34m\u001b[0m\u001b[0;34m\u001b[0m\u001b[0m\n",
                        "\u001b[0;32m/opt/conda/envs/Python36/lib/python3.6/site-packages/project_lib/handlers/project_core.py\u001b[0m in \u001b[0;36msave_data_to_storage\u001b[0;34m(self, asset_name, data, overwrite, create_asset)\u001b[0m\n\u001b[1;32m    113\u001b[0m         \u001b[0mfile_path\u001b[0m \u001b[0;34m=\u001b[0m \u001b[0mself\u001b[0m\u001b[0;34m.\u001b[0m\u001b[0m_storage\u001b[0m\u001b[0;34m.\u001b[0m\u001b[0mnormalize_file_name\u001b[0m\u001b[0;34m(\u001b[0m\u001b[0masset_name\u001b[0m\u001b[0;34m)\u001b[0m\u001b[0;34m\u001b[0m\u001b[0;34m\u001b[0m\u001b[0m\n\u001b[1;32m    114\u001b[0m \u001b[0;34m\u001b[0m\u001b[0m\n\u001b[0;32m--> 115\u001b[0;31m         \u001b[0mos_res\u001b[0m \u001b[0;34m=\u001b[0m \u001b[0mself\u001b[0m\u001b[0;34m.\u001b[0m\u001b[0m_storage\u001b[0m\u001b[0;34m.\u001b[0m\u001b[0mwrite_file\u001b[0m\u001b[0;34m(\u001b[0m\u001b[0mfile_path\u001b[0m\u001b[0;34m,\u001b[0m \u001b[0mdata\u001b[0m\u001b[0;34m,\u001b[0m \u001b[0moverwrite\u001b[0m\u001b[0;34m)\u001b[0m\u001b[0;34m\u001b[0m\u001b[0;34m\u001b[0m\u001b[0m\n\u001b[0m\u001b[1;32m    116\u001b[0m         \u001b[0;32mif\u001b[0m \u001b[0;32mnot\u001b[0m \u001b[0mos_res\u001b[0m\u001b[0;34m:\u001b[0m\u001b[0;34m\u001b[0m\u001b[0;34m\u001b[0m\u001b[0m\n\u001b[1;32m    117\u001b[0m             \u001b[0;32mraise\u001b[0m \u001b[0mexception\u001b[0m\u001b[0;34m(\u001b[0m\u001b[0;34m\"Failed to write file to storage.\"\u001b[0m\u001b[0;34m)\u001b[0m\u001b[0;34m\u001b[0m\u001b[0;34m\u001b[0m\u001b[0m\n",
                        "\u001b[0;32m/opt/conda/envs/Python36/lib/python3.6/site-packages/project_lib/storage/bcos.py\u001b[0m in \u001b[0;36mwrite_file\u001b[0;34m(self, file_name, data, overwrite)\u001b[0m\n\u001b[1;32m     95\u001b[0m     \u001b[0;32mdef\u001b[0m \u001b[0mwrite_file\u001b[0m\u001b[0;34m(\u001b[0m\u001b[0mself\u001b[0m\u001b[0;34m,\u001b[0m \u001b[0mfile_name\u001b[0m\u001b[0;34m,\u001b[0m \u001b[0mdata\u001b[0m\u001b[0;34m,\u001b[0m \u001b[0moverwrite\u001b[0m\u001b[0;34m=\u001b[0m\u001b[0;32mNone\u001b[0m\u001b[0;34m)\u001b[0m\u001b[0;34m:\u001b[0m\u001b[0;34m\u001b[0m\u001b[0;34m\u001b[0m\u001b[0m\n\u001b[1;32m     96\u001b[0m         \u001b[0;31m# the overwrite argument is ignored here\u001b[0m\u001b[0;34m\u001b[0m\u001b[0;34m\u001b[0m\u001b[0;34m\u001b[0m\u001b[0m\n\u001b[0;32m---> 97\u001b[0;31m         \u001b[0mres\u001b[0m \u001b[0;34m=\u001b[0m \u001b[0mself\u001b[0m\u001b[0;34m.\u001b[0m\u001b[0m_cos_client\u001b[0m\u001b[0;34m.\u001b[0m\u001b[0mput_object\u001b[0m\u001b[0;34m(\u001b[0m\u001b[0mBucket\u001b[0m\u001b[0;34m=\u001b[0m\u001b[0mself\u001b[0m\u001b[0;34m.\u001b[0m\u001b[0m_bucket_name\u001b[0m\u001b[0;34m,\u001b[0m \u001b[0mKey\u001b[0m\u001b[0;34m=\u001b[0m\u001b[0mfile_name\u001b[0m\u001b[0;34m,\u001b[0m \u001b[0mBody\u001b[0m\u001b[0;34m=\u001b[0m\u001b[0mdata\u001b[0m\u001b[0;34m)\u001b[0m\u001b[0;34m\u001b[0m\u001b[0;34m\u001b[0m\u001b[0m\n\u001b[0m\u001b[1;32m     98\u001b[0m         \u001b[0mstatus_code\u001b[0m \u001b[0;34m=\u001b[0m \u001b[0mres\u001b[0m\u001b[0;34m.\u001b[0m\u001b[0mget\u001b[0m\u001b[0;34m(\u001b[0m\u001b[0;34m\"ResponseMetadata\"\u001b[0m\u001b[0;34m,\u001b[0m \u001b[0;34m{\u001b[0m\u001b[0;34m}\u001b[0m\u001b[0;34m)\u001b[0m\u001b[0;34m.\u001b[0m\u001b[0mget\u001b[0m\u001b[0;34m(\u001b[0m\u001b[0;34m\"HTTPStatusCode\"\u001b[0m\u001b[0;34m)\u001b[0m\u001b[0;34m\u001b[0m\u001b[0;34m\u001b[0m\u001b[0m\n\u001b[1;32m     99\u001b[0m         \u001b[0;32mif\u001b[0m \u001b[0;34m(\u001b[0m\u001b[0mstatus_code\u001b[0m \u001b[0;34m!=\u001b[0m \u001b[0;36m200\u001b[0m\u001b[0;34m)\u001b[0m\u001b[0;34m:\u001b[0m\u001b[0;34m\u001b[0m\u001b[0;34m\u001b[0m\u001b[0m\n",
                        "\u001b[0;32m/opt/conda/envs/Python36/lib/python3.6/site-packages/ibm_botocore/client.py\u001b[0m in \u001b[0;36m_api_call\u001b[0;34m(self, *args, **kwargs)\u001b[0m\n\u001b[1;32m    355\u001b[0m                     \"%s() only accepts keyword arguments.\" % py_operation_name)\n\u001b[1;32m    356\u001b[0m             \u001b[0;31m# The \"self\" in this scope is referring to the BaseClient.\u001b[0m\u001b[0;34m\u001b[0m\u001b[0;34m\u001b[0m\u001b[0;34m\u001b[0m\u001b[0m\n\u001b[0;32m--> 357\u001b[0;31m             \u001b[0;32mreturn\u001b[0m \u001b[0mself\u001b[0m\u001b[0;34m.\u001b[0m\u001b[0m_make_api_call\u001b[0m\u001b[0;34m(\u001b[0m\u001b[0moperation_name\u001b[0m\u001b[0;34m,\u001b[0m \u001b[0mkwargs\u001b[0m\u001b[0;34m)\u001b[0m\u001b[0;34m\u001b[0m\u001b[0;34m\u001b[0m\u001b[0m\n\u001b[0m\u001b[1;32m    358\u001b[0m \u001b[0;34m\u001b[0m\u001b[0m\n\u001b[1;32m    359\u001b[0m         \u001b[0m_api_call\u001b[0m\u001b[0;34m.\u001b[0m\u001b[0m__name__\u001b[0m \u001b[0;34m=\u001b[0m \u001b[0mstr\u001b[0m\u001b[0;34m(\u001b[0m\u001b[0mpy_operation_name\u001b[0m\u001b[0;34m)\u001b[0m\u001b[0;34m\u001b[0m\u001b[0;34m\u001b[0m\u001b[0m\n",
                        "\u001b[0;32m/opt/conda/envs/Python36/lib/python3.6/site-packages/ibm_botocore/client.py\u001b[0m in \u001b[0;36m_make_api_call\u001b[0;34m(self, operation_name, api_params)\u001b[0m\n\u001b[1;32m    659\u001b[0m             \u001b[0merror_code\u001b[0m \u001b[0;34m=\u001b[0m \u001b[0mparsed_response\u001b[0m\u001b[0;34m.\u001b[0m\u001b[0mget\u001b[0m\u001b[0;34m(\u001b[0m\u001b[0;34m\"Error\"\u001b[0m\u001b[0;34m,\u001b[0m \u001b[0;34m{\u001b[0m\u001b[0;34m}\u001b[0m\u001b[0;34m)\u001b[0m\u001b[0;34m.\u001b[0m\u001b[0mget\u001b[0m\u001b[0;34m(\u001b[0m\u001b[0;34m\"Code\"\u001b[0m\u001b[0;34m)\u001b[0m\u001b[0;34m\u001b[0m\u001b[0;34m\u001b[0m\u001b[0m\n\u001b[1;32m    660\u001b[0m             \u001b[0merror_class\u001b[0m \u001b[0;34m=\u001b[0m \u001b[0mself\u001b[0m\u001b[0;34m.\u001b[0m\u001b[0mexceptions\u001b[0m\u001b[0;34m.\u001b[0m\u001b[0mfrom_code\u001b[0m\u001b[0;34m(\u001b[0m\u001b[0merror_code\u001b[0m\u001b[0;34m)\u001b[0m\u001b[0;34m\u001b[0m\u001b[0;34m\u001b[0m\u001b[0m\n\u001b[0;32m--> 661\u001b[0;31m             \u001b[0;32mraise\u001b[0m \u001b[0merror_class\u001b[0m\u001b[0;34m(\u001b[0m\u001b[0mparsed_response\u001b[0m\u001b[0;34m,\u001b[0m \u001b[0moperation_name\u001b[0m\u001b[0;34m)\u001b[0m\u001b[0;34m\u001b[0m\u001b[0;34m\u001b[0m\u001b[0m\n\u001b[0m\u001b[1;32m    662\u001b[0m         \u001b[0;32melse\u001b[0m\u001b[0;34m:\u001b[0m\u001b[0;34m\u001b[0m\u001b[0;34m\u001b[0m\u001b[0m\n\u001b[1;32m    663\u001b[0m             \u001b[0;32mreturn\u001b[0m \u001b[0mparsed_response\u001b[0m\u001b[0;34m\u001b[0m\u001b[0;34m\u001b[0m\u001b[0m\n",
                        "\u001b[0;31mClientError\u001b[0m: An error occurred (AccessDenied) when calling the PutObject operation: Access Denied"
                    ]
                }
            ]
        },
        {
            "metadata": {},
            "cell_type": "code",
            "source": "",
            "execution_count": null,
            "outputs": []
        }
    ],
    "metadata": {
        "kernelspec": {
            "name": "python3",
            "display_name": "Python 3.6",
            "language": "python"
        },
        "language_info": {
            "name": "python",
            "version": "3.6.9",
            "mimetype": "text/x-python",
            "codemirror_mode": {
                "name": "ipython",
                "version": 3
            },
            "pygments_lexer": "ipython3",
            "nbconvert_exporter": "python",
            "file_extension": ".py"
        }
    },
    "nbformat": 4,
    "nbformat_minor": 4
}